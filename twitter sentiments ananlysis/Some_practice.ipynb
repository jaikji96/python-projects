{
 "cells": [
  {
   "cell_type": "code",
   "execution_count": 1,
   "metadata": {},
   "outputs": [],
   "source": [
    "import spacy"
   ]
  },
  {
   "cell_type": "code",
   "execution_count": 2,
   "metadata": {},
   "outputs": [],
   "source": [
    "nlp=spacy.load('en_core_web_sm')"
   ]
  },
  {
   "cell_type": "code",
   "execution_count": 3,
   "metadata": {},
   "outputs": [],
   "source": [
    "import numpy as np"
   ]
  },
  {
   "cell_type": "code",
   "execution_count": 4,
   "metadata": {},
   "outputs": [],
   "source": [
    "import pandas as pd"
   ]
  },
  {
   "cell_type": "code",
   "execution_count": 30,
   "metadata": {},
   "outputs": [],
   "source": [
    "df=pd.read_csv('train_E6oV3lV.csv')"
   ]
  },
  {
   "cell_type": "code",
   "execution_count": 38,
   "metadata": {},
   "outputs": [
    {
     "data": {
      "text/plain": [
       "' @user when a father is dysfunctional and is so selfish he drags his kids into his dysfunction.   #run'"
      ]
     },
     "execution_count": 38,
     "metadata": {},
     "output_type": "execute_result"
    }
   ],
   "source": [
    "df.loc[0]['tweet']"
   ]
  },
  {
   "cell_type": "code",
   "execution_count": 67,
   "metadata": {},
   "outputs": [
    {
     "name": "stdout",
     "output_type": "stream",
     "text": [
      " @user when a father is dysfunctional and is so selfish he drags his kids into his dysfunction.    | #run | @user @user thanks for #lyft credit i can't use cause they don't offer wheelchair vans in pdx.     | #disapointed #getthanked |   bihday your majesty | #model    | i love u take with u all the time in urð±!!! | ðððð",
      " | ð | ¦ð¦ð¦   |  factsguide: society now    #motivation | [2/2] huge fan fare and big talking before they leave. | chaos and pay disputes when they get there. | #allshowandnogo   |  @user camping tomorrow @user @user @user @user @user @user @user dannyâ¦ | the next school year is the year for exams.ð¯ can't think about that ð­ #school #exams   #hate #imagine #actorslife #revolutionschool #girl | we won!!! | love the land!!! | #allin #cavs #champions #cleveland #clevelandcavaliers  â¦ |  @user @user welcome here !   | i'm    | it's so #gr8 ! | "
     ]
    }
   ],
   "source": [
    "for i in range(10):\n",
    "    doc=nlp(df.loc[i]['tweet'])\n",
    "    for j in doc.sents:\n",
    "        print(j,end=' | ')"
   ]
  },
  {
   "cell_type": "code",
   "execution_count": 54,
   "metadata": {},
   "outputs": [],
   "source": [
    "text= 'when a father is dysfunctional and is so selfish he drags his kids into his dysfunction.'"
   ]
  },
  {
   "cell_type": "code",
   "execution_count": 55,
   "metadata": {},
   "outputs": [],
   "source": [
    "current = nlp(text)"
   ]
  },
  {
   "cell_type": "code",
   "execution_count": 57,
   "metadata": {},
   "outputs": [
    {
     "name": "stdout",
     "output_type": "stream",
     "text": [
      "when ADV\n",
      "a DET\n",
      "father NOUN\n",
      "is VERB\n",
      "dysfunctional ADJ\n",
      "and CCONJ\n",
      "is VERB\n",
      "so ADV\n",
      "selfish ADJ\n",
      "he PRON\n",
      "drags VERB\n",
      "his ADJ\n",
      "kids NOUN\n",
      "into ADP\n",
      "his ADJ\n",
      "dysfunction NOUN\n",
      ". PUNCT\n"
     ]
    }
   ],
   "source": []
  },
  {
   "cell_type": "code",
   "execution_count": null,
   "metadata": {},
   "outputs": [],
   "source": []
  }
 ],
 "metadata": {
  "kernelspec": {
   "display_name": "Python 3",
   "language": "python",
   "name": "python3"
  },
  "language_info": {
   "codemirror_mode": {
    "name": "ipython",
    "version": 3
   },
   "file_extension": ".py",
   "mimetype": "text/x-python",
   "name": "python",
   "nbconvert_exporter": "python",
   "pygments_lexer": "ipython3",
   "version": "3.6.8"
  }
 },
 "nbformat": 4,
 "nbformat_minor": 2
}
