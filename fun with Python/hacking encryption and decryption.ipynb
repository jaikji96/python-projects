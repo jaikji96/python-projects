{
 "cells": [
  {
   "cell_type": "code",
   "execution_count": 4,
   "metadata": {},
   "outputs": [
    {
     "name": "stdout",
     "output_type": "stream",
     "text": [
      "abcdefghijklmnopqrstuvwxyz\n",
      "['a', 'b', 'c', 'd', 'e', 'f', 'g', 'h', 'i', 'j', 'k', 'l', 'm', 'n', 'o', 'p', 'q', 'r', 's', 't', 'u', 'v', 'w', 'x', 'y', 'z']\n"
     ]
    }
   ],
   "source": [
    "import string\n",
    "alphabet = string.ascii_lowercase\n",
    "print(alphabet)\n",
    "print(list(alphabet))"
   ]
  },
  {
   "cell_type": "code",
   "execution_count": 30,
   "metadata": {},
   "outputs": [],
   "source": [
    "def encrypt(text,shift):\n",
    "    '''\n",
    "    input:- text as a sting and an integer for the shift value/\n",
    "    output:- the shifted after being run through the caeser cipher.\n",
    "    \n",
    "    '''\n",
    "    encrypted_text = list(range(len(text)))\n",
    "    \n",
    "    alphabet =string.ascii_lowercase\n",
    "    \n",
    "    first_half= alphabet[:shift]\n",
    "    second_half=alphabet[shift:]\n",
    "    \n",
    "    shifted_alphabet= second_half + first_half\n",
    "    \n",
    "    for i, letter in enumerate(text.lower()):\n",
    "        if letter in alphabet:\n",
    "            \n",
    "            origional_index = alphabet.index(letter)\n",
    "            new_letter = shifted_alphabet[origional_index]\n",
    "            encrypted_text[i]=new_letter\n",
    "            \n",
    "        else:\n",
    "            encrypted_text[i] = letter\n",
    "    print first_half\n",
    "    print second_half\n",
    "    print shifted_alphabet\n",
    "    print list(enumerate(text.lower()))\n",
    "    print encrypted_text\n",
    "    return '' .join(encrypted_text)"
   ]
  },
  {
   "cell_type": "code",
   "execution_count": 36,
   "metadata": {},
   "outputs": [
    {
     "name": "stdout",
     "output_type": "stream",
     "text": [
      "abcdefg\n",
      "hijklmnopqrstuvwxyz\n",
      "hijklmnopqrstuvwxyzabcdefg\n",
      "[(0, 't'), (1, 'f'), (2, ' '), (3, 'u'), (4, 'h'), (5, 't'), (6, 'l'), (7, ' '), (8, 'p'), (9, 'z'), (10, ' '), (11, 'q'), (12, 'h'), (13, 'p'), (14, ' '), (15, 'r'), (16, 'b'), (17, 't'), (18, 'h'), (19, 'y')]\n",
      "['a', 'm', ' ', 'b', 'o', 'a', 's', ' ', 'w', 'g', ' ', 'x', 'o', 'w', ' ', 'y', 'i', 'a', 'o', 'f']\n"
     ]
    },
    {
     "data": {
      "text/plain": [
       "'am boas wg xow yiaof'"
      ]
     },
     "execution_count": 36,
     "metadata": {},
     "output_type": "execute_result"
    }
   ],
   "source": [
    "encrypt('tf uhtl pz qhp rbthy',7)"
   ]
  },
  {
   "cell_type": "code",
   "execution_count": 32,
   "metadata": {},
   "outputs": [
    {
     "name": "stdout",
     "output_type": "stream",
     "text": [
      "['t', 'r', 'g', ' ', 'g', 'u', 'v', 'f', ' ', 'z', 'r', 'f', 'f', 'n', 't', 'r', ' ', 'g', 'b', ' ', 'g', 'u', 'r', ' ', 'z', 'n', 'v', 'a', ' ', 'f', 'r', 'e', 'i', 'r', 'e']\n",
      "[0, 1, 2, 3, 4, 5, 6, 7, 8, 9, 10, 11, 12, 13, 14, 15, 16, 17, 18, 19, 20, 21, 22, 23, 24, 25, 26, 27, 28, 29, 30, 31, 32, 33, 34]\n"
     ]
    }
   ],
   "source": [
    "text='trg guvf zrffntr gb gur znva freire'\n",
    "encrypted_text = list(range(len(text)))\n",
    "print(list(text))\n",
    "print encrypted_text"
   ]
  },
  {
   "cell_type": "markdown",
   "metadata": {},
   "source": [
    "# decryption"
   ]
  },
  {
   "cell_type": "code",
   "execution_count": 5,
   "metadata": {},
   "outputs": [],
   "source": [
    "def decrypt(text,shift):\n",
    "    '''\n",
    "    input:- a shifted message and the integer shift value\n",
    "    \n",
    "    output:- the plain text origional message\n",
    "    \n",
    "    '''\n",
    "    decrypted_text = list(range(len(text)))\n",
    "    \n",
    "    first_half = alphabet[:shift]\n",
    "    second_half = alphabet[shift]\n",
    "    \n",
    "    shifted_alphabet= second_half + first_half\n",
    "    \n",
    "    for i, letter in enumerate(text.lower()):\n",
    "        if letter in alphabet:\n",
    "            index = shifted_alphabet.index(letter)\n",
    "            origional_letter = alphabet[index]\n",
    "            decrypted_text[i] = origional_letter\n",
    "        \n",
    "        else:\n",
    "            decrypted_text[i] = letter\n",
    "    print first_half\n",
    "    print second_half\n",
    "    print shifted_alphabet\n",
    "    print list(enumerate(text.lower()))\n",
    "    print decrypted_text\n",
    "    return '' .join(decrypted_text)"
   ]
  },
  {
   "cell_type": "code",
   "execution_count": 6,
   "metadata": {},
   "outputs": [
    {
     "ename": "ValueError",
     "evalue": "substring not found",
     "output_type": "error",
     "traceback": [
      "\u001b[1;31m---------------------------------------------------------------------------\u001b[0m",
      "\u001b[1;31mValueError\u001b[0m                                Traceback (most recent call last)",
      "\u001b[1;32m<ipython-input-6-73bdb8206589>\u001b[0m in \u001b[0;36m<module>\u001b[1;34m()\u001b[0m\n\u001b[1;32m----> 1\u001b[1;33m \u001b[0mdecrypt\u001b[0m\u001b[1;33m(\u001b[0m\u001b[1;34m'trg guvf zrffntr gb gur znva freire'\u001b[0m\u001b[1;33m,\u001b[0m\u001b[1;36m13\u001b[0m\u001b[1;33m)\u001b[0m\u001b[1;33m\u001b[0m\u001b[0m\n\u001b[0m",
      "\u001b[1;32m<ipython-input-5-777b54f5f104>\u001b[0m in \u001b[0;36mdecrypt\u001b[1;34m(text, shift)\u001b[0m\n\u001b[0;32m     15\u001b[0m     \u001b[1;32mfor\u001b[0m \u001b[0mi\u001b[0m\u001b[1;33m,\u001b[0m \u001b[0mletter\u001b[0m \u001b[1;32min\u001b[0m \u001b[0menumerate\u001b[0m\u001b[1;33m(\u001b[0m\u001b[0mtext\u001b[0m\u001b[1;33m.\u001b[0m\u001b[0mlower\u001b[0m\u001b[1;33m(\u001b[0m\u001b[1;33m)\u001b[0m\u001b[1;33m)\u001b[0m\u001b[1;33m:\u001b[0m\u001b[1;33m\u001b[0m\u001b[0m\n\u001b[0;32m     16\u001b[0m         \u001b[1;32mif\u001b[0m \u001b[0mletter\u001b[0m \u001b[1;32min\u001b[0m \u001b[0malphabet\u001b[0m\u001b[1;33m:\u001b[0m\u001b[1;33m\u001b[0m\u001b[0m\n\u001b[1;32m---> 17\u001b[1;33m             \u001b[0mindex\u001b[0m \u001b[1;33m=\u001b[0m \u001b[0mshifted_alphabet\u001b[0m\u001b[1;33m.\u001b[0m\u001b[0mindex\u001b[0m\u001b[1;33m(\u001b[0m\u001b[0mletter\u001b[0m\u001b[1;33m)\u001b[0m\u001b[1;33m\u001b[0m\u001b[0m\n\u001b[0m\u001b[0;32m     18\u001b[0m             \u001b[0morigional_letter\u001b[0m \u001b[1;33m=\u001b[0m \u001b[0malphabet\u001b[0m\u001b[1;33m[\u001b[0m\u001b[0mindex\u001b[0m\u001b[1;33m]\u001b[0m\u001b[1;33m\u001b[0m\u001b[0m\n\u001b[0;32m     19\u001b[0m             \u001b[0mdecrypted_text\u001b[0m\u001b[1;33m[\u001b[0m\u001b[0mi\u001b[0m\u001b[1;33m]\u001b[0m \u001b[1;33m=\u001b[0m \u001b[0morigional_letter\u001b[0m\u001b[1;33m\u001b[0m\u001b[0m\n",
      "\u001b[1;31mValueError\u001b[0m: substring not found"
     ]
    }
   ],
   "source": [
    "decrypt('trg guvf zrffntr gb gur znva freire',13)"
   ]
  },
  {
   "cell_type": "code",
   "execution_count": null,
   "metadata": {},
   "outputs": [],
   "source": []
  }
 ],
 "metadata": {
  "kernelspec": {
   "display_name": "Python 2",
   "language": "python",
   "name": "python2"
  },
  "language_info": {
   "codemirror_mode": {
    "name": "ipython",
    "version": 2
   },
   "file_extension": ".py",
   "mimetype": "text/x-python",
   "name": "python",
   "nbconvert_exporter": "python",
   "pygments_lexer": "ipython2",
   "version": "2.7.15"
  }
 },
 "nbformat": 4,
 "nbformat_minor": 2
}
